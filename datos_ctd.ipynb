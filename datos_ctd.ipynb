{
 "cells": [
  {
   "cell_type": "code",
   "execution_count": 185,
   "id": "7d1b5bf5-f747-4121-985c-9a331f6cd99a",
   "metadata": {
    "execution": {
     "iopub.execute_input": "2023-10-03T19:36:56.332510Z",
     "iopub.status.busy": "2023-10-03T19:36:56.331840Z",
     "iopub.status.idle": "2023-10-03T19:36:56.402035Z",
     "shell.execute_reply": "2023-10-03T19:36:56.401581Z",
     "shell.execute_reply.started": "2023-10-03T19:36:56.332472Z"
    }
   },
   "outputs": [
    {
     "name": "stdout",
     "output_type": "stream",
     "text": [
      "The autoreload extension is already loaded. To reload it, use:\n",
      "  %reload_ext autoreload\n"
     ]
    }
   ],
   "source": [
    "import pandas as pd\n",
    "import numpy as np\n",
    "import matplotlib.pyplot as plt\n",
    "import seawater\n",
    "%load_ext autoreload\n",
    "%autoreload 2"
   ]
  },
  {
   "cell_type": "code",
   "execution_count": 187,
   "id": "4e9c2923-b7c0-4dc0-ba11-1ebadad51620",
   "metadata": {
    "execution": {
     "iopub.execute_input": "2023-10-03T19:37:16.452951Z",
     "iopub.status.busy": "2023-10-03T19:37:16.452165Z",
     "iopub.status.idle": "2023-10-03T19:37:16.523735Z",
     "shell.execute_reply": "2023-10-03T19:37:16.523382Z",
     "shell.execute_reply.started": "2023-10-03T19:37:16.452905Z"
    }
   },
   "outputs": [
    {
     "data": {
      "text/plain": [
       "{'Now': '12/09/2023 09:16:56\\n',\n",
       " 'Battery Level': '1.4V\\n',\n",
       " '\\x00MiniCTD': 'S/N 58934\\n',\n",
       " 'Site info': '2023_AMARRADEROBOYANORTE_12SEP\\n',\n",
       " 'Calibrated': '22/02/2017\\n',\n",
       " 'Latitude': '21.361392\\n',\n",
       " 'Mode': 'M1\\n',\n",
       " 'Tare': '10.1028\\n',\n",
       " 'Pressure units': 'dBar\\n'}"
      ]
     },
     "execution_count": 187,
     "metadata": {},
     "output_type": "execute_result"
    }
   ],
   "source": [
    "fName = \"/Users/hector/Desktop/V000015.txt\"\n",
    "nSkip = 9\n",
    "\n",
    "df = pd.read_csv(fName, \n",
    "                 skiprows=nSkip,\n",
    "                 delimiter=\"\\t\",\n",
    "                 names=[\"Pressure\", \"Temperature\", \"Conductivity\"],\n",
    "                )\n",
    "metadata = {}\n",
    "with open(fName) as fd:\n",
    "    for i in range(nSkip):\n",
    "        tmp = next(fd).split(\": \")\n",
    "        metadata[tmp[0]] = tmp[1]\n",
    "metadata"
   ]
  },
  {
   "cell_type": "code",
   "execution_count": 188,
   "id": "b88c9692-3812-4040-9112-997b48e81246",
   "metadata": {
    "execution": {
     "iopub.execute_input": "2023-10-03T19:37:16.839072Z",
     "iopub.status.busy": "2023-10-03T19:37:16.838526Z",
     "iopub.status.idle": "2023-10-03T19:37:16.908610Z",
     "shell.execute_reply": "2023-10-03T19:37:16.908285Z",
     "shell.execute_reply.started": "2023-10-03T19:37:16.839040Z"
    }
   },
   "outputs": [
    {
     "name": "stderr",
     "output_type": "stream",
     "text": [
      "/Users/hector/anaconda3/envs/era_py39/lib/python3.9/site-packages/seawater/library.py:363: RuntimeWarning: invalid value encountered in sqrt\n",
      "  Rtx = (rt) ** 0.5\n"
     ]
    }
   ],
   "source": [
    "# Calculate time\n",
    "time = pd.date_range(start=metadata['Now'], periods=len(df), freq=\"200ms\")\n",
    "df['time'] = time\n",
    "\n",
    "# Conductivity of seawater at 35 C \n",
    "C35 = 4.2914 #Siemens/meter\n",
    "C35 = 42.914 #mS/cm\n",
    "seawater.salrt(35)\n",
    "\n",
    "# Calculate conductivity ratio, salinity and density\n",
    "df['Cond_Ratio'] = df.Conductivity/C35\n",
    "df['Salinity'] = seawater.eos80.salt(df['Cond_Ratio'], df['Temperature'], df['Pressure'])\n",
    "df['Density'] = seawater.eos80.dens(df['Salinity'], df['Temperature'], df['Pressure'])"
   ]
  },
  {
   "cell_type": "code",
   "execution_count": 191,
   "id": "bd8422c4-d710-49dc-9b4d-9cc64e5d9b8d",
   "metadata": {
    "execution": {
     "iopub.execute_input": "2023-10-03T19:37:26.397600Z",
     "iopub.status.busy": "2023-10-03T19:37:26.396941Z",
     "iopub.status.idle": "2023-10-03T19:37:26.457349Z",
     "shell.execute_reply": "2023-10-03T19:37:26.456868Z",
     "shell.execute_reply.started": "2023-10-03T19:37:26.397561Z"
    }
   },
   "outputs": [],
   "source": [
    "def cluster_throw(df):\n",
    "\n",
    "    ind = df.index[df.Salinity>2]\n",
    "    output = np.ones_like(df.Salinity)*-1\n",
    "    c = 0\n",
    "    for i,j in zip(ind[0:-1], ind[1:]):\n",
    "            if j-i <=1:\n",
    "                output[i] = c\n",
    "                output[j] = c\n",
    "            else:\n",
    "                output[i] = c\n",
    "                c += 1\n",
    "                output[j] = c\n",
    "                \n",
    "    return output"
   ]
  },
  {
   "cell_type": "code",
   "execution_count": 192,
   "id": "496a57db-6b84-4024-b58f-6ef17e8f30db",
   "metadata": {
    "execution": {
     "iopub.execute_input": "2023-10-03T19:37:28.017126Z",
     "iopub.status.busy": "2023-10-03T19:37:28.016283Z",
     "iopub.status.idle": "2023-10-03T19:37:28.083386Z",
     "shell.execute_reply": "2023-10-03T19:37:28.082897Z",
     "shell.execute_reply.started": "2023-10-03T19:37:28.017074Z"
    }
   },
   "outputs": [],
   "source": [
    "df['Lances'] = cluster_throw(df)"
   ]
  },
  {
   "cell_type": "code",
   "execution_count": 193,
   "id": "d1055d5b-c9e3-4c11-a209-3f97089c0e27",
   "metadata": {
    "execution": {
     "iopub.execute_input": "2023-10-03T19:37:28.435035Z",
     "iopub.status.busy": "2023-10-03T19:37:28.434034Z",
     "iopub.status.idle": "2023-10-03T19:37:28.504174Z",
     "shell.execute_reply": "2023-10-03T19:37:28.503742Z",
     "shell.execute_reply.started": "2023-10-03T19:37:28.434974Z"
    }
   },
   "outputs": [
    {
     "data": {
      "text/html": [
       "<div>\n",
       "<style scoped>\n",
       "    .dataframe tbody tr th:only-of-type {\n",
       "        vertical-align: middle;\n",
       "    }\n",
       "\n",
       "    .dataframe tbody tr th {\n",
       "        vertical-align: top;\n",
       "    }\n",
       "\n",
       "    .dataframe thead th {\n",
       "        text-align: right;\n",
       "    }\n",
       "</style>\n",
       "<table border=\"1\" class=\"dataframe\">\n",
       "  <thead>\n",
       "    <tr style=\"text-align: right;\">\n",
       "      <th></th>\n",
       "      <th>Pressure</th>\n",
       "      <th>Temperature</th>\n",
       "      <th>Conductivity</th>\n",
       "      <th>time</th>\n",
       "      <th>Cond_Ratio</th>\n",
       "      <th>Salinity</th>\n",
       "      <th>Density</th>\n",
       "      <th>Lances</th>\n",
       "    </tr>\n",
       "  </thead>\n",
       "  <tbody>\n",
       "    <tr>\n",
       "      <th>0</th>\n",
       "      <td>-0.000</td>\n",
       "      <td>29.483</td>\n",
       "      <td>NaN</td>\n",
       "      <td>2023-12-09 09:16:56.000</td>\n",
       "      <td>-0.000396</td>\n",
       "      <td>NaN</td>\n",
       "      <td>NaN</td>\n",
       "      <td>-1.0</td>\n",
       "    </tr>\n",
       "    <tr>\n",
       "      <th>1</th>\n",
       "      <td>-0.001</td>\n",
       "      <td>29.489</td>\n",
       "      <td>NaN</td>\n",
       "      <td>2023-12-09 09:16:56.200</td>\n",
       "      <td>-0.000373</td>\n",
       "      <td>NaN</td>\n",
       "      <td>NaN</td>\n",
       "      <td>-1.0</td>\n",
       "    </tr>\n",
       "    <tr>\n",
       "      <th>2</th>\n",
       "      <td>-0.002</td>\n",
       "      <td>29.499</td>\n",
       "      <td>NaN</td>\n",
       "      <td>2023-12-09 09:16:56.400</td>\n",
       "      <td>-0.000373</td>\n",
       "      <td>NaN</td>\n",
       "      <td>NaN</td>\n",
       "      <td>-1.0</td>\n",
       "    </tr>\n",
       "    <tr>\n",
       "      <th>3</th>\n",
       "      <td>-0.002</td>\n",
       "      <td>29.504</td>\n",
       "      <td>NaN</td>\n",
       "      <td>2023-12-09 09:16:56.600</td>\n",
       "      <td>-0.000396</td>\n",
       "      <td>NaN</td>\n",
       "      <td>NaN</td>\n",
       "      <td>-1.0</td>\n",
       "    </tr>\n",
       "    <tr>\n",
       "      <th>4</th>\n",
       "      <td>0.001</td>\n",
       "      <td>29.512</td>\n",
       "      <td>NaN</td>\n",
       "      <td>2023-12-09 09:16:56.800</td>\n",
       "      <td>-0.000373</td>\n",
       "      <td>NaN</td>\n",
       "      <td>NaN</td>\n",
       "      <td>-1.0</td>\n",
       "    </tr>\n",
       "    <tr>\n",
       "      <th>...</th>\n",
       "      <td>...</td>\n",
       "      <td>...</td>\n",
       "      <td>...</td>\n",
       "      <td>...</td>\n",
       "      <td>...</td>\n",
       "      <td>...</td>\n",
       "      <td>...</td>\n",
       "      <td>...</td>\n",
       "    </tr>\n",
       "    <tr>\n",
       "      <th>12398</th>\n",
       "      <td>-0.018</td>\n",
       "      <td>30.589</td>\n",
       "      <td>NaN</td>\n",
       "      <td>2023-12-09 09:58:15.600</td>\n",
       "      <td>-0.000396</td>\n",
       "      <td>NaN</td>\n",
       "      <td>NaN</td>\n",
       "      <td>-1.0</td>\n",
       "    </tr>\n",
       "    <tr>\n",
       "      <th>12399</th>\n",
       "      <td>-0.021</td>\n",
       "      <td>30.593</td>\n",
       "      <td>NaN</td>\n",
       "      <td>2023-12-09 09:58:15.800</td>\n",
       "      <td>-0.000396</td>\n",
       "      <td>NaN</td>\n",
       "      <td>NaN</td>\n",
       "      <td>-1.0</td>\n",
       "    </tr>\n",
       "    <tr>\n",
       "      <th>12400</th>\n",
       "      <td>-0.019</td>\n",
       "      <td>30.592</td>\n",
       "      <td>NaN</td>\n",
       "      <td>2023-12-09 09:58:16.000</td>\n",
       "      <td>-0.000396</td>\n",
       "      <td>NaN</td>\n",
       "      <td>NaN</td>\n",
       "      <td>-1.0</td>\n",
       "    </tr>\n",
       "    <tr>\n",
       "      <th>12401</th>\n",
       "      <td>-0.020</td>\n",
       "      <td>30.592</td>\n",
       "      <td>NaN</td>\n",
       "      <td>2023-12-09 09:58:16.200</td>\n",
       "      <td>-0.000396</td>\n",
       "      <td>NaN</td>\n",
       "      <td>NaN</td>\n",
       "      <td>-1.0</td>\n",
       "    </tr>\n",
       "    <tr>\n",
       "      <th>12402</th>\n",
       "      <td>-0.020</td>\n",
       "      <td>30.594</td>\n",
       "      <td>NaN</td>\n",
       "      <td>2023-12-09 09:58:16.400</td>\n",
       "      <td>-0.000396</td>\n",
       "      <td>NaN</td>\n",
       "      <td>NaN</td>\n",
       "      <td>-1.0</td>\n",
       "    </tr>\n",
       "  </tbody>\n",
       "</table>\n",
       "<p>12403 rows × 8 columns</p>\n",
       "</div>"
      ],
      "text/plain": [
       "       Pressure  Temperature  Conductivity                    time  \\\n",
       "0        -0.000       29.483           NaN 2023-12-09 09:16:56.000   \n",
       "1        -0.001       29.489           NaN 2023-12-09 09:16:56.200   \n",
       "2        -0.002       29.499           NaN 2023-12-09 09:16:56.400   \n",
       "3        -0.002       29.504           NaN 2023-12-09 09:16:56.600   \n",
       "4         0.001       29.512           NaN 2023-12-09 09:16:56.800   \n",
       "...         ...          ...           ...                     ...   \n",
       "12398    -0.018       30.589           NaN 2023-12-09 09:58:15.600   \n",
       "12399    -0.021       30.593           NaN 2023-12-09 09:58:15.800   \n",
       "12400    -0.019       30.592           NaN 2023-12-09 09:58:16.000   \n",
       "12401    -0.020       30.592           NaN 2023-12-09 09:58:16.200   \n",
       "12402    -0.020       30.594           NaN 2023-12-09 09:58:16.400   \n",
       "\n",
       "       Cond_Ratio  Salinity  Density  Lances  \n",
       "0       -0.000396       NaN      NaN    -1.0  \n",
       "1       -0.000373       NaN      NaN    -1.0  \n",
       "2       -0.000373       NaN      NaN    -1.0  \n",
       "3       -0.000396       NaN      NaN    -1.0  \n",
       "4       -0.000373       NaN      NaN    -1.0  \n",
       "...           ...       ...      ...     ...  \n",
       "12398   -0.000396       NaN      NaN    -1.0  \n",
       "12399   -0.000396       NaN      NaN    -1.0  \n",
       "12400   -0.000396       NaN      NaN    -1.0  \n",
       "12401   -0.000396       NaN      NaN    -1.0  \n",
       "12402   -0.000396       NaN      NaN    -1.0  \n",
       "\n",
       "[12403 rows x 8 columns]"
      ]
     },
     "execution_count": 193,
     "metadata": {},
     "output_type": "execute_result"
    }
   ],
   "source": [
    "df"
   ]
  },
  {
   "cell_type": "code",
   "execution_count": 183,
   "id": "80ccb452-62bf-43fc-9cf4-715626285c05",
   "metadata": {
    "execution": {
     "iopub.execute_input": "2023-10-03T19:35:13.986184Z",
     "iopub.status.busy": "2023-10-03T19:35:13.985099Z",
     "iopub.status.idle": "2023-10-03T19:35:14.134916Z",
     "shell.execute_reply": "2023-10-03T19:35:14.134587Z",
     "shell.execute_reply.started": "2023-10-03T19:35:13.986115Z"
    }
   },
   "outputs": [
    {
     "data": {
      "image/png": "[encoded data removed]",
      "text/plain": [
       "<Figure size 800x300 with 1 Axes>"
      ]
     },
     "metadata": {},
     "output_type": "display_data"
    }
   ],
   "source": [
    "fig,ax = plt.subplots(figsize=(8,3))\n",
    "\n",
    "for i,g in enumerate(df.Lances.unique()):\n",
    "    tmp = df[df.Lances==g]\n",
    "    ax.plot(tmp.time, tmp.Salinity, marker=\"o\", lw=0, color=\"C\"+str(i), label=\"Lance {}\".format(i))\n",
    "ax.legend()\n",
    "_ = ax.set_ylabel(\"Salinidad [psu]\")\n"
   ]
  },
  {
   "cell_type": "code",
   "execution_count": 195,
   "id": "342a216a-a1df-4ea4-9df6-4899589c9f00",
   "metadata": {
    "execution": {
     "iopub.execute_input": "2023-10-03T19:38:08.741324Z",
     "iopub.status.busy": "2023-10-03T19:38:08.740630Z",
     "iopub.status.idle": "2023-10-03T19:38:08.957457Z",
     "shell.execute_reply": "2023-10-03T19:38:08.957141Z",
     "shell.execute_reply.started": "2023-10-03T19:38:08.741284Z"
    }
   },
   "outputs": [
    {
     "data": {
      "image/png": "[encoded data removed]",
      "text/plain": [
       "<Figure size 800x300 with 1 Axes>"
      ]
     },
     "metadata": {},
     "output_type": "display_data"
    }
   ],
   "source": [
    "fig,ax = plt.subplots(figsize=(8,3))\n",
    "\n",
    "for i,g in enumerate(df.Lances.unique()):\n",
    "    tmp = df[df.Lances==g]\n",
    "    ax.plot(tmp.time, tmp.Density, marker=\"o\", lw=0, color=\"C\"+str(i), label=\"Lance {}\".format(i))\n",
    "ax.legend()\n",
    "_ = ax.set_ylabel(r\"Density [kg m$^{-3}$]\")"
   ]
  },
  {
   "cell_type": "code",
   "execution_count": null,
   "id": "76226504-a9ec-4ad4-b1f2-2eb813793774",
   "metadata": {},
   "outputs": [],
   "source": []
  },
  {
   "cell_type": "code",
   "execution_count": null,
   "id": "5dfcbe69-3e86-48c2-94d1-b252e86e1577",
   "metadata": {},
   "outputs": [],
   "source": []
  },
  {
   "cell_type": "code",
   "execution_count": null,
   "id": "55ad69ef-2177-4554-8064-69a8dc6aad98",
   "metadata": {},
   "outputs": [],
   "source": []
  },
  {
   "cell_type": "code",
   "execution_count": null,
   "id": "eddd989e-e01b-461f-ba99-28c02e689e11",
   "metadata": {},
   "outputs": [],
   "source": []
  },
  {
   "cell_type": "code",
   "execution_count": null,
   "id": "3a1dad79-00f5-4993-8a8b-0e8948c6c064",
   "metadata": {},
   "outputs": [],
   "source": []
  },
  {
   "cell_type": "code",
   "execution_count": null,
   "id": "4fa5a7e0-b1ef-4fdf-b563-93e5c89521f5",
   "metadata": {},
   "outputs": [],
   "source": []
  }
 ],
 "metadata": {
  "kernelspec": {
   "display_name": "era_py39",
   "language": "python",
   "name": "era_py39"
  },
  "language_info": {
   "codemirror_mode": {
    "name": "ipython",
    "version": 3
   },
   "file_extension": ".py",
   "mimetype": "text/x-python",
   "name": "python",
   "nbconvert_exporter": "python",
   "pygments_lexer": "ipython3",
   "version": "3.9.16"
  }
 },
 "nbformat": 4,
 "nbformat_minor": 5
}
