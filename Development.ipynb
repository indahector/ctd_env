{
 "cells": [
  {
   "cell_type": "code",
   "execution_count": 1,
   "id": "4f33d93b-8bbf-4a72-bbd7-a5cf45b91eb9",
   "metadata": {
    "execution": {
     "iopub.execute_input": "2023-12-25T23:22:12.343831Z",
     "iopub.status.busy": "2023-12-25T23:22:12.343177Z",
     "iopub.status.idle": "2023-12-25T23:22:12.771846Z",
     "shell.execute_reply": "2023-12-25T23:22:12.771382Z",
     "shell.execute_reply.started": "2023-12-25T23:22:12.343800Z"
    },
    "tags": []
   },
   "outputs": [],
   "source": [
    "#!/Users/hector/anaconda3/envs/test-gui/bin/python\n",
    "\n",
    "# import PySimpleGUI as sg\n",
    "import pandas as pd\n",
    "import numpy as np\n",
    "import matplotlib.pyplot as plt\n",
    "import seawater\n",
    "import os.path\n",
    "\n",
    "%load_ext autoreload\n",
    "%autoreload 2\n",
    "\n",
    "from CTD_library import *"
   ]
  },
  {
   "cell_type": "code",
   "execution_count": 2,
   "id": "73d64d9e-30f9-4bdf-ad5d-3385659c88a3",
   "metadata": {
    "execution": {
     "iopub.execute_input": "2023-12-25T23:22:12.772899Z",
     "iopub.status.busy": "2023-12-25T23:22:12.772757Z",
     "iopub.status.idle": "2023-12-25T23:22:12.794619Z",
     "shell.execute_reply": "2023-12-25T23:22:12.794075Z",
     "shell.execute_reply.started": "2023-12-25T23:22:12.772890Z"
    }
   },
   "outputs": [
    {
     "data": {
      "text/html": [
       "<div>\n",
       "<style scoped>\n",
       "    .dataframe tbody tr th:only-of-type {\n",
       "        vertical-align: middle;\n",
       "    }\n",
       "\n",
       "    .dataframe tbody tr th {\n",
       "        vertical-align: top;\n",
       "    }\n",
       "\n",
       "    .dataframe thead th {\n",
       "        text-align: right;\n",
       "    }\n",
       "</style>\n",
       "<table border=\"1\" class=\"dataframe\">\n",
       "  <thead>\n",
       "    <tr style=\"text-align: right;\">\n",
       "      <th></th>\n",
       "      <th>Pressure</th>\n",
       "      <th>Temperature</th>\n",
       "      <th>Conductivity</th>\n",
       "    </tr>\n",
       "  </thead>\n",
       "  <tbody>\n",
       "    <tr>\n",
       "      <th>0</th>\n",
       "      <td>-0.000</td>\n",
       "      <td>29.483</td>\n",
       "      <td>-0.017</td>\n",
       "    </tr>\n",
       "    <tr>\n",
       "      <th>1</th>\n",
       "      <td>-0.001</td>\n",
       "      <td>29.489</td>\n",
       "      <td>-0.016</td>\n",
       "    </tr>\n",
       "    <tr>\n",
       "      <th>2</th>\n",
       "      <td>-0.002</td>\n",
       "      <td>29.499</td>\n",
       "      <td>-0.016</td>\n",
       "    </tr>\n",
       "    <tr>\n",
       "      <th>3</th>\n",
       "      <td>-0.002</td>\n",
       "      <td>29.504</td>\n",
       "      <td>-0.017</td>\n",
       "    </tr>\n",
       "    <tr>\n",
       "      <th>4</th>\n",
       "      <td>0.001</td>\n",
       "      <td>29.512</td>\n",
       "      <td>-0.016</td>\n",
       "    </tr>\n",
       "    <tr>\n",
       "      <th>...</th>\n",
       "      <td>...</td>\n",
       "      <td>...</td>\n",
       "      <td>...</td>\n",
       "    </tr>\n",
       "    <tr>\n",
       "      <th>12398</th>\n",
       "      <td>-0.018</td>\n",
       "      <td>30.589</td>\n",
       "      <td>-0.017</td>\n",
       "    </tr>\n",
       "    <tr>\n",
       "      <th>12399</th>\n",
       "      <td>-0.021</td>\n",
       "      <td>30.593</td>\n",
       "      <td>-0.017</td>\n",
       "    </tr>\n",
       "    <tr>\n",
       "      <th>12400</th>\n",
       "      <td>-0.019</td>\n",
       "      <td>30.592</td>\n",
       "      <td>-0.017</td>\n",
       "    </tr>\n",
       "    <tr>\n",
       "      <th>12401</th>\n",
       "      <td>-0.020</td>\n",
       "      <td>30.592</td>\n",
       "      <td>-0.017</td>\n",
       "    </tr>\n",
       "    <tr>\n",
       "      <th>12402</th>\n",
       "      <td>-0.020</td>\n",
       "      <td>30.594</td>\n",
       "      <td>-0.017</td>\n",
       "    </tr>\n",
       "  </tbody>\n",
       "</table>\n",
       "<p>12403 rows × 3 columns</p>\n",
       "</div>"
      ],
      "text/plain": [
       "       Pressure  Temperature  Conductivity\n",
       "0        -0.000       29.483        -0.017\n",
       "1        -0.001       29.489        -0.016\n",
       "2        -0.002       29.499        -0.016\n",
       "3        -0.002       29.504        -0.017\n",
       "4         0.001       29.512        -0.016\n",
       "...         ...          ...           ...\n",
       "12398    -0.018       30.589        -0.017\n",
       "12399    -0.021       30.593        -0.017\n",
       "12400    -0.019       30.592        -0.017\n",
       "12401    -0.020       30.592        -0.017\n",
       "12402    -0.020       30.594        -0.017\n",
       "\n",
       "[12403 rows x 3 columns]"
      ]
     },
     "execution_count": 2,
     "metadata": {},
     "output_type": "execute_result"
    }
   ],
   "source": [
    "df0, metadata = read_ctd(\"Datos/V000019.TXT\")\n",
    "df0, metadata = read_ctd(\"Datos/V000015.TXT\")\n",
    "df0"
   ]
  },
  {
   "cell_type": "code",
   "execution_count": 3,
   "id": "bc3e8a14-cddd-4ede-a63a-3fd572fcc0e4",
   "metadata": {
    "execution": {
     "iopub.execute_input": "2023-12-25T23:22:12.799282Z",
     "iopub.status.busy": "2023-12-25T23:22:12.799104Z",
     "iopub.status.idle": "2023-12-25T23:22:12.812309Z",
     "shell.execute_reply": "2023-12-25T23:22:12.811913Z",
     "shell.execute_reply.started": "2023-12-25T23:22:12.799269Z"
    }
   },
   "outputs": [
    {
     "data": {
      "text/plain": [
       "0       -0.017\n",
       "1       -0.016\n",
       "2       -0.016\n",
       "3       -0.017\n",
       "4       -0.016\n",
       "         ...  \n",
       "12398   -0.017\n",
       "12399   -0.017\n",
       "12400   -0.017\n",
       "12401   -0.017\n",
       "12402   -0.017\n",
       "Name: Conductivity, Length: 10599, dtype: float64"
      ]
     },
     "execution_count": 3,
     "metadata": {},
     "output_type": "execute_result"
    }
   ],
   "source": [
    "df0.Conductivity[df0.Conductivity<0]"
   ]
  },
  {
   "cell_type": "code",
   "execution_count": 4,
   "id": "9995e61f-3a7b-436e-ba3d-fd8c62ca460c",
   "metadata": {
    "execution": {
     "iopub.execute_input": "2023-12-25T23:22:12.927295Z",
     "iopub.status.busy": "2023-12-25T23:22:12.927015Z",
     "iopub.status.idle": "2023-12-25T23:22:13.042663Z",
     "shell.execute_reply": "2023-12-25T23:22:13.042315Z",
     "shell.execute_reply.started": "2023-12-25T23:22:12.927279Z"
    }
   },
   "outputs": [
    {
     "data": {
      "text/plain": [
       "<Axes: >"
      ]
     },
     "execution_count": 4,
     "metadata": {},
     "output_type": "execute_result"
    },
    {
     "data": {
      "image/png": "[encoded data removed]",
      "text/plain": [
       "<Figure size 640x480 with 1 Axes>"
      ]
     },
     "metadata": {},
     "output_type": "display_data"
    }
   ],
   "source": [
    "df0.Conductivity.plot(marker=\".\")\n",
    "df0.Conductivity[df0.Conductivity<0].plot(marker=\".\", mfc=\"none\", lw=0)"
   ]
  },
  {
   "cell_type": "code",
   "execution_count": 5,
   "id": "ae16c4bd-0206-4379-8acd-d2dc16a45aef",
   "metadata": {
    "execution": {
     "iopub.execute_input": "2023-12-25T23:22:13.049999Z",
     "iopub.status.busy": "2023-12-25T23:22:13.049790Z",
     "iopub.status.idle": "2023-12-25T23:22:13.063210Z",
     "shell.execute_reply": "2023-12-25T23:22:13.062825Z",
     "shell.execute_reply.started": "2023-12-25T23:22:13.049985Z"
    }
   },
   "outputs": [
    {
     "data": {
      "text/plain": [
       "{'Now': '12/09/2023 09:16:56',\n",
       " 'Battery Level': '1.4V',\n",
       " '\\x00MiniCTD': 'S/N 58934',\n",
       " 'Site info': '2023_AMARRADEROBOYANORTE_12SEP',\n",
       " 'Calibrated': '22/02/2017',\n",
       " 'Latitude': '21.361392',\n",
       " 'Mode': 'M1',\n",
       " 'Tare': '10.1028',\n",
       " 'Pressure units': 'dBar'}"
      ]
     },
     "execution_count": 5,
     "metadata": {},
     "output_type": "execute_result"
    }
   ],
   "source": [
    "metadata"
   ]
  },
  {
   "cell_type": "code",
   "execution_count": 6,
   "id": "a435bc0e-d504-4c22-b8ed-23a9c3503efc",
   "metadata": {
    "execution": {
     "iopub.execute_input": "2023-12-25T23:22:13.180148Z",
     "iopub.status.busy": "2023-12-25T23:22:13.179888Z",
     "iopub.status.idle": "2023-12-25T23:22:13.201961Z",
     "shell.execute_reply": "2023-12-25T23:22:13.201561Z",
     "shell.execute_reply.started": "2023-12-25T23:22:13.180132Z"
    }
   },
   "outputs": [
    {
     "data": {
      "text/html": [
       "<div>\n",
       "<style scoped>\n",
       "    .dataframe tbody tr th:only-of-type {\n",
       "        vertical-align: middle;\n",
       "    }\n",
       "\n",
       "    .dataframe tbody tr th {\n",
       "        vertical-align: top;\n",
       "    }\n",
       "\n",
       "    .dataframe thead th {\n",
       "        text-align: right;\n",
       "    }\n",
       "</style>\n",
       "<table border=\"1\" class=\"dataframe\">\n",
       "  <thead>\n",
       "    <tr style=\"text-align: right;\">\n",
       "      <th></th>\n",
       "      <th>Pressure</th>\n",
       "      <th>Temperature</th>\n",
       "      <th>Conductivity</th>\n",
       "      <th>Lances</th>\n",
       "      <th>time</th>\n",
       "    </tr>\n",
       "  </thead>\n",
       "  <tbody>\n",
       "    <tr>\n",
       "      <th>0</th>\n",
       "      <td>-0.000</td>\n",
       "      <td>29.483</td>\n",
       "      <td>-0.017</td>\n",
       "      <td>-1</td>\n",
       "      <td>2023-12-09 09:16:56</td>\n",
       "    </tr>\n",
       "    <tr>\n",
       "      <th>1</th>\n",
       "      <td>-0.001</td>\n",
       "      <td>29.489</td>\n",
       "      <td>-0.016</td>\n",
       "      <td>-1</td>\n",
       "      <td>2023-12-09 09:16:57</td>\n",
       "    </tr>\n",
       "    <tr>\n",
       "      <th>2</th>\n",
       "      <td>-0.002</td>\n",
       "      <td>29.499</td>\n",
       "      <td>-0.016</td>\n",
       "      <td>-1</td>\n",
       "      <td>2023-12-09 09:16:58</td>\n",
       "    </tr>\n",
       "    <tr>\n",
       "      <th>3</th>\n",
       "      <td>-0.002</td>\n",
       "      <td>29.504</td>\n",
       "      <td>-0.017</td>\n",
       "      <td>-1</td>\n",
       "      <td>2023-12-09 09:16:59</td>\n",
       "    </tr>\n",
       "    <tr>\n",
       "      <th>4</th>\n",
       "      <td>0.001</td>\n",
       "      <td>29.512</td>\n",
       "      <td>-0.016</td>\n",
       "      <td>-1</td>\n",
       "      <td>2023-12-09 09:17:00</td>\n",
       "    </tr>\n",
       "    <tr>\n",
       "      <th>...</th>\n",
       "      <td>...</td>\n",
       "      <td>...</td>\n",
       "      <td>...</td>\n",
       "      <td>...</td>\n",
       "      <td>...</td>\n",
       "    </tr>\n",
       "    <tr>\n",
       "      <th>12398</th>\n",
       "      <td>-0.018</td>\n",
       "      <td>30.589</td>\n",
       "      <td>-0.017</td>\n",
       "      <td>-1</td>\n",
       "      <td>2023-12-09 12:43:34</td>\n",
       "    </tr>\n",
       "    <tr>\n",
       "      <th>12399</th>\n",
       "      <td>-0.021</td>\n",
       "      <td>30.593</td>\n",
       "      <td>-0.017</td>\n",
       "      <td>-1</td>\n",
       "      <td>2023-12-09 12:43:35</td>\n",
       "    </tr>\n",
       "    <tr>\n",
       "      <th>12400</th>\n",
       "      <td>-0.019</td>\n",
       "      <td>30.592</td>\n",
       "      <td>-0.017</td>\n",
       "      <td>-1</td>\n",
       "      <td>2023-12-09 12:43:36</td>\n",
       "    </tr>\n",
       "    <tr>\n",
       "      <th>12401</th>\n",
       "      <td>-0.020</td>\n",
       "      <td>30.592</td>\n",
       "      <td>-0.017</td>\n",
       "      <td>-1</td>\n",
       "      <td>2023-12-09 12:43:37</td>\n",
       "    </tr>\n",
       "    <tr>\n",
       "      <th>12402</th>\n",
       "      <td>-0.020</td>\n",
       "      <td>30.594</td>\n",
       "      <td>-0.017</td>\n",
       "      <td>-1</td>\n",
       "      <td>2023-12-09 12:43:38</td>\n",
       "    </tr>\n",
       "  </tbody>\n",
       "</table>\n",
       "<p>12403 rows × 5 columns</p>\n",
       "</div>"
      ],
      "text/plain": [
       "       Pressure  Temperature  Conductivity  Lances                time\n",
       "0        -0.000       29.483        -0.017      -1 2023-12-09 09:16:56\n",
       "1        -0.001       29.489        -0.016      -1 2023-12-09 09:16:57\n",
       "2        -0.002       29.499        -0.016      -1 2023-12-09 09:16:58\n",
       "3        -0.002       29.504        -0.017      -1 2023-12-09 09:16:59\n",
       "4         0.001       29.512        -0.016      -1 2023-12-09 09:17:00\n",
       "...         ...          ...           ...     ...                 ...\n",
       "12398    -0.018       30.589        -0.017      -1 2023-12-09 12:43:34\n",
       "12399    -0.021       30.593        -0.017      -1 2023-12-09 12:43:35\n",
       "12400    -0.019       30.592        -0.017      -1 2023-12-09 12:43:36\n",
       "12401    -0.020       30.592        -0.017      -1 2023-12-09 12:43:37\n",
       "12402    -0.020       30.594        -0.017      -1 2023-12-09 12:43:38\n",
       "\n",
       "[12403 rows x 5 columns]"
      ]
     },
     "execution_count": 6,
     "metadata": {},
     "output_type": "execute_result"
    }
   ],
   "source": [
    "df1 = separate_throws(df0, metadata, threshold=0)\n",
    "df1"
   ]
  },
  {
   "cell_type": "code",
   "execution_count": 7,
   "id": "94c048bb-662a-4c53-be33-751643986169",
   "metadata": {
    "execution": {
     "iopub.execute_input": "2023-12-25T23:22:13.345678Z",
     "iopub.status.busy": "2023-12-25T23:22:13.344868Z",
     "iopub.status.idle": "2023-12-25T23:22:13.454200Z",
     "shell.execute_reply": "2023-12-25T23:22:13.453818Z",
     "shell.execute_reply.started": "2023-12-25T23:22:13.345626Z"
    }
   },
   "outputs": [
    {
     "data": {
      "text/plain": [
       "<Axes: >"
      ]
     },
     "execution_count": 7,
     "metadata": {},
     "output_type": "execute_result"
    },
    {
     "data": {
      "image/png": "[encoded data removed]",
      "text/plain": [
       "<Figure size 640x480 with 1 Axes>"
      ]
     },
     "metadata": {},
     "output_type": "display_data"
    }
   ],
   "source": [
    "df1.Lances.plot(lw=0, marker=\".\")"
   ]
  },
  {
   "cell_type": "code",
   "execution_count": 8,
   "id": "fe670e1d-6090-4a65-9aaf-f2d8ad8908b2",
   "metadata": {
    "execution": {
     "iopub.execute_input": "2023-12-25T23:22:13.492298Z",
     "iopub.status.busy": "2023-12-25T23:22:13.492055Z",
     "iopub.status.idle": "2023-12-25T23:22:13.513657Z",
     "shell.execute_reply": "2023-12-25T23:22:13.513286Z",
     "shell.execute_reply.started": "2023-12-25T23:22:13.492283Z"
    }
   },
   "outputs": [
    {
     "name": "stderr",
     "output_type": "stream",
     "text": [
      "/Users/hector/anaconda3/envs/era_py39/lib/python3.9/site-packages/seawater/library.py:363: RuntimeWarning: invalid value encountered in sqrt\n",
      "  Rtx = (rt) ** 0.5\n"
     ]
    },
    {
     "data": {
      "text/html": [
       "<div>\n",
       "<style scoped>\n",
       "    .dataframe tbody tr th:only-of-type {\n",
       "        vertical-align: middle;\n",
       "    }\n",
       "\n",
       "    .dataframe tbody tr th {\n",
       "        vertical-align: top;\n",
       "    }\n",
       "\n",
       "    .dataframe thead th {\n",
       "        text-align: right;\n",
       "    }\n",
       "</style>\n",
       "<table border=\"1\" class=\"dataframe\">\n",
       "  <thead>\n",
       "    <tr style=\"text-align: right;\">\n",
       "      <th></th>\n",
       "      <th>Pressure</th>\n",
       "      <th>Temperature</th>\n",
       "      <th>Conductivity</th>\n",
       "      <th>Lances</th>\n",
       "      <th>time</th>\n",
       "      <th>Cond_Ratio</th>\n",
       "      <th>Salinity</th>\n",
       "      <th>Density</th>\n",
       "    </tr>\n",
       "  </thead>\n",
       "  <tbody>\n",
       "    <tr>\n",
       "      <th>0</th>\n",
       "      <td>-0.000</td>\n",
       "      <td>29.483</td>\n",
       "      <td>-0.017</td>\n",
       "      <td>-1</td>\n",
       "      <td>2023-12-09 09:16:56</td>\n",
       "      <td>-0.000396</td>\n",
       "      <td>NaN</td>\n",
       "      <td>NaN</td>\n",
       "    </tr>\n",
       "    <tr>\n",
       "      <th>1</th>\n",
       "      <td>-0.001</td>\n",
       "      <td>29.489</td>\n",
       "      <td>-0.016</td>\n",
       "      <td>-1</td>\n",
       "      <td>2023-12-09 09:16:57</td>\n",
       "      <td>-0.000373</td>\n",
       "      <td>NaN</td>\n",
       "      <td>NaN</td>\n",
       "    </tr>\n",
       "    <tr>\n",
       "      <th>2</th>\n",
       "      <td>-0.002</td>\n",
       "      <td>29.499</td>\n",
       "      <td>-0.016</td>\n",
       "      <td>-1</td>\n",
       "      <td>2023-12-09 09:16:58</td>\n",
       "      <td>-0.000373</td>\n",
       "      <td>NaN</td>\n",
       "      <td>NaN</td>\n",
       "    </tr>\n",
       "    <tr>\n",
       "      <th>3</th>\n",
       "      <td>-0.002</td>\n",
       "      <td>29.504</td>\n",
       "      <td>-0.017</td>\n",
       "      <td>-1</td>\n",
       "      <td>2023-12-09 09:16:59</td>\n",
       "      <td>-0.000396</td>\n",
       "      <td>NaN</td>\n",
       "      <td>NaN</td>\n",
       "    </tr>\n",
       "    <tr>\n",
       "      <th>4</th>\n",
       "      <td>0.001</td>\n",
       "      <td>29.512</td>\n",
       "      <td>-0.016</td>\n",
       "      <td>-1</td>\n",
       "      <td>2023-12-09 09:17:00</td>\n",
       "      <td>-0.000373</td>\n",
       "      <td>NaN</td>\n",
       "      <td>NaN</td>\n",
       "    </tr>\n",
       "    <tr>\n",
       "      <th>...</th>\n",
       "      <td>...</td>\n",
       "      <td>...</td>\n",
       "      <td>...</td>\n",
       "      <td>...</td>\n",
       "      <td>...</td>\n",
       "      <td>...</td>\n",
       "      <td>...</td>\n",
       "      <td>...</td>\n",
       "    </tr>\n",
       "    <tr>\n",
       "      <th>12398</th>\n",
       "      <td>-0.018</td>\n",
       "      <td>30.589</td>\n",
       "      <td>-0.017</td>\n",
       "      <td>-1</td>\n",
       "      <td>2023-12-09 12:43:34</td>\n",
       "      <td>-0.000396</td>\n",
       "      <td>NaN</td>\n",
       "      <td>NaN</td>\n",
       "    </tr>\n",
       "    <tr>\n",
       "      <th>12399</th>\n",
       "      <td>-0.021</td>\n",
       "      <td>30.593</td>\n",
       "      <td>-0.017</td>\n",
       "      <td>-1</td>\n",
       "      <td>2023-12-09 12:43:35</td>\n",
       "      <td>-0.000396</td>\n",
       "      <td>NaN</td>\n",
       "      <td>NaN</td>\n",
       "    </tr>\n",
       "    <tr>\n",
       "      <th>12400</th>\n",
       "      <td>-0.019</td>\n",
       "      <td>30.592</td>\n",
       "      <td>-0.017</td>\n",
       "      <td>-1</td>\n",
       "      <td>2023-12-09 12:43:36</td>\n",
       "      <td>-0.000396</td>\n",
       "      <td>NaN</td>\n",
       "      <td>NaN</td>\n",
       "    </tr>\n",
       "    <tr>\n",
       "      <th>12401</th>\n",
       "      <td>-0.020</td>\n",
       "      <td>30.592</td>\n",
       "      <td>-0.017</td>\n",
       "      <td>-1</td>\n",
       "      <td>2023-12-09 12:43:37</td>\n",
       "      <td>-0.000396</td>\n",
       "      <td>NaN</td>\n",
       "      <td>NaN</td>\n",
       "    </tr>\n",
       "    <tr>\n",
       "      <th>12402</th>\n",
       "      <td>-0.020</td>\n",
       "      <td>30.594</td>\n",
       "      <td>-0.017</td>\n",
       "      <td>-1</td>\n",
       "      <td>2023-12-09 12:43:38</td>\n",
       "      <td>-0.000396</td>\n",
       "      <td>NaN</td>\n",
       "      <td>NaN</td>\n",
       "    </tr>\n",
       "  </tbody>\n",
       "</table>\n",
       "<p>12403 rows × 8 columns</p>\n",
       "</div>"
      ],
      "text/plain": [
       "       Pressure  Temperature  Conductivity  Lances                time  \\\n",
       "0        -0.000       29.483        -0.017      -1 2023-12-09 09:16:56   \n",
       "1        -0.001       29.489        -0.016      -1 2023-12-09 09:16:57   \n",
       "2        -0.002       29.499        -0.016      -1 2023-12-09 09:16:58   \n",
       "3        -0.002       29.504        -0.017      -1 2023-12-09 09:16:59   \n",
       "4         0.001       29.512        -0.016      -1 2023-12-09 09:17:00   \n",
       "...         ...          ...           ...     ...                 ...   \n",
       "12398    -0.018       30.589        -0.017      -1 2023-12-09 12:43:34   \n",
       "12399    -0.021       30.593        -0.017      -1 2023-12-09 12:43:35   \n",
       "12400    -0.019       30.592        -0.017      -1 2023-12-09 12:43:36   \n",
       "12401    -0.020       30.592        -0.017      -1 2023-12-09 12:43:37   \n",
       "12402    -0.020       30.594        -0.017      -1 2023-12-09 12:43:38   \n",
       "\n",
       "       Cond_Ratio  Salinity  Density  \n",
       "0       -0.000396       NaN      NaN  \n",
       "1       -0.000373       NaN      NaN  \n",
       "2       -0.000373       NaN      NaN  \n",
       "3       -0.000396       NaN      NaN  \n",
       "4       -0.000373       NaN      NaN  \n",
       "...           ...       ...      ...  \n",
       "12398   -0.000396       NaN      NaN  \n",
       "12399   -0.000396       NaN      NaN  \n",
       "12400   -0.000396       NaN      NaN  \n",
       "12401   -0.000396       NaN      NaN  \n",
       "12402   -0.000396       NaN      NaN  \n",
       "\n",
       "[12403 rows x 8 columns]"
      ]
     },
     "execution_count": 8,
     "metadata": {},
     "output_type": "execute_result"
    }
   ],
   "source": [
    "df = calculate_ctd(df1)\n",
    "df"
   ]
  },
  {
   "cell_type": "code",
   "execution_count": 9,
   "id": "0cff49f0-dd39-435f-af73-22d7bb0280bf",
   "metadata": {
    "execution": {
     "iopub.execute_input": "2023-12-25T23:22:13.963580Z",
     "iopub.status.busy": "2023-12-25T23:22:13.962985Z",
     "iopub.status.idle": "2023-12-25T23:22:14.324613Z",
     "shell.execute_reply": "2023-12-25T23:22:14.324208Z",
     "shell.execute_reply.started": "2023-12-25T23:22:13.963548Z"
    }
   },
   "outputs": [
    {
     "data": {
      "image/png": "[encoded data removed]",
      "text/plain": [
       "<Figure size 800x300 with 1 Axes>"
      ]
     },
     "metadata": {},
     "output_type": "display_data"
    },
    {
     "data": {
      "image/png": "[encoded data removed]",
      "text/plain": [
       "<Figure size 800x300 with 1 Axes>"
      ]
     },
     "metadata": {},
     "output_type": "display_data"
    }
   ],
   "source": [
    "fig0, fig1 = plot_ctd(df)"
   ]
  },
  {
   "cell_type": "code",
   "execution_count": 10,
   "id": "39608047-8de1-41f5-b117-c1dcca53878a",
   "metadata": {
    "execution": {
     "iopub.execute_input": "2023-12-25T23:22:14.325656Z",
     "iopub.status.busy": "2023-12-25T23:22:14.325516Z",
     "iopub.status.idle": "2023-12-25T23:22:14.338753Z",
     "shell.execute_reply": "2023-12-25T23:22:14.338346Z",
     "shell.execute_reply.started": "2023-12-25T23:22:14.325646Z"
    }
   },
   "outputs": [
    {
     "data": {
      "text/plain": [
       "{'Now': '12/09/2023 09:16:56',\n",
       " 'Battery Level': '1.4V',\n",
       " '\\x00MiniCTD': 'S/N 58934',\n",
       " 'Site info': '2023_AMARRADEROBOYANORTE_12SEP',\n",
       " 'Calibrated': '22/02/2017',\n",
       " 'Latitude': '21.361392',\n",
       " 'Mode': 'M1',\n",
       " 'Tare': '10.1028',\n",
       " 'Pressure units': 'dBar'}"
      ]
     },
     "execution_count": 10,
     "metadata": {},
     "output_type": "execute_result"
    }
   ],
   "source": [
    "metadata"
   ]
  },
  {
   "cell_type": "code",
   "execution_count": 11,
   "id": "767c5d97-04e6-4dfb-bf55-c9a85b87fa35",
   "metadata": {
    "execution": {
     "iopub.execute_input": "2023-12-25T23:22:14.701485Z",
     "iopub.status.busy": "2023-12-25T23:22:14.700898Z",
     "iopub.status.idle": "2023-12-25T23:22:14.747832Z",
     "shell.execute_reply": "2023-12-25T23:22:14.747441Z",
     "shell.execute_reply.started": "2023-12-25T23:22:14.701457Z"
    }
   },
   "outputs": [],
   "source": [
    "output_throws(df,metadata)"
   ]
  },
  {
   "cell_type": "code",
   "execution_count": 12,
   "id": "2cec5220-efbb-4056-8c55-7ea997d162bd",
   "metadata": {
    "execution": {
     "iopub.execute_input": "2023-12-25T23:22:15.035302Z",
     "iopub.status.busy": "2023-12-25T23:22:15.034718Z",
     "iopub.status.idle": "2023-12-25T23:22:15.316388Z",
     "shell.execute_reply": "2023-12-25T23:22:15.316059Z",
     "shell.execute_reply.started": "2023-12-25T23:22:15.035273Z"
    }
   },
   "outputs": [
    {
     "name": "stderr",
     "output_type": "stream",
     "text": [
      "/Users/hector/anaconda3/envs/era_py39/lib/python3.9/site-packages/seawater/library.py:363: RuntimeWarning: invalid value encountered in sqrt\n",
      "  Rtx = (rt) ** 0.5\n"
     ]
    },
    {
     "data": {
      "image/png": "[encoded data removed]",
      "text/plain": [
       "<Figure size 800x300 with 1 Axes>"
      ]
     },
     "metadata": {},
     "output_type": "display_data"
    },
    {
     "data": {
      "image/png": "[encoded data removed]",
      "text/plain": [
       "<Figure size 800x300 with 1 Axes>"
      ]
     },
     "metadata": {},
     "output_type": "display_data"
    }
   ],
   "source": [
    "df, fig0, fig1 = analyze_ctd(\"Datos/V000063.TXT\", plot=True)"
   ]
  },
  {
   "cell_type": "code",
   "execution_count": null,
   "id": "4c67033c-5879-40a9-816e-2a7aea1c348a",
   "metadata": {},
   "outputs": [],
   "source": []
  },
  {
   "cell_type": "code",
   "execution_count": null,
   "id": "c4c6ef74-c798-46ca-a593-89d8e60d55ef",
   "metadata": {},
   "outputs": [],
   "source": []
  },
  {
   "cell_type": "code",
   "execution_count": null,
   "id": "f2f309c2-f9cd-44c8-9c93-dc7356ff2d6c",
   "metadata": {},
   "outputs": [],
   "source": []
  },
  {
   "cell_type": "code",
   "execution_count": null,
   "id": "dc8efe87-2c08-41d7-a2c9-d8dd9d0ecf0e",
   "metadata": {},
   "outputs": [],
   "source": []
  },
  {
   "cell_type": "code",
   "execution_count": null,
   "id": "abc74409-b6c8-4816-adda-55d0e963ab09",
   "metadata": {},
   "outputs": [],
   "source": []
  },
  {
   "cell_type": "code",
   "execution_count": null,
   "id": "05321882-0265-4a49-83a7-79f425055630",
   "metadata": {},
   "outputs": [],
   "source": []
  },
  {
   "cell_type": "code",
   "execution_count": null,
   "id": "a2ee3e15-d7f9-443e-a707-ba051e293252",
   "metadata": {},
   "outputs": [],
   "source": []
  },
  {
   "cell_type": "code",
   "execution_count": null,
   "id": "e766b898-ab6e-4275-9dd1-d1135d3fc9bb",
   "metadata": {},
   "outputs": [],
   "source": []
  },
  {
   "cell_type": "code",
   "execution_count": null,
   "id": "f99a448e-53ee-4692-b53c-9d84696da968",
   "metadata": {},
   "outputs": [],
   "source": []
  },
  {
   "cell_type": "code",
   "execution_count": null,
   "id": "39c843b4-3544-48b3-8207-2a9b21c58c92",
   "metadata": {},
   "outputs": [],
   "source": []
  },
  {
   "cell_type": "code",
   "execution_count": null,
   "id": "e72cbc49-383c-4865-b256-efd65b82e0df",
   "metadata": {},
   "outputs": [],
   "source": []
  },
  {
   "cell_type": "code",
   "execution_count": null,
   "id": "07d5890f-ffa4-4027-a609-f3f2c5bb4cec",
   "metadata": {},
   "outputs": [],
   "source": []
  },
  {
   "cell_type": "code",
   "execution_count": null,
   "id": "b23270a8-6ba5-45e5-8d5a-f9ba2da7487f",
   "metadata": {},
   "outputs": [],
   "source": []
  },
  {
   "cell_type": "code",
   "execution_count": null,
   "id": "23240312-28d9-4ae5-aacc-afe711321312",
   "metadata": {},
   "outputs": [],
   "source": []
  },
  {
   "cell_type": "code",
   "execution_count": null,
   "id": "3c24794d-b53b-450c-aca7-fcea1aa75604",
   "metadata": {},
   "outputs": [],
   "source": []
  },
  {
   "cell_type": "code",
   "execution_count": null,
   "id": "6c8f5b65-21ba-41e1-92a3-7f9a36fa0d44",
   "metadata": {},
   "outputs": [],
   "source": []
  },
  {
   "cell_type": "code",
   "execution_count": 13,
   "id": "ffdbc0ea-673a-4ce4-9f9f-07050962f8f5",
   "metadata": {
    "execution": {
     "iopub.execute_input": "2023-12-25T23:22:18.738941Z",
     "iopub.status.busy": "2023-12-25T23:22:18.738466Z",
     "iopub.status.idle": "2023-12-25T23:22:18.928633Z",
     "shell.execute_reply": "2023-12-25T23:22:18.928066Z",
     "shell.execute_reply.started": "2023-12-25T23:22:18.738915Z"
    },
    "tags": []
   },
   "outputs": [
    {
     "ename": "NameError",
     "evalue": "name 'sg' is not defined",
     "output_type": "error",
     "traceback": [
      "\u001b[0;31m---------------------------------------------------------------------------\u001b[0m",
      "\u001b[0;31mNameError\u001b[0m                                 Traceback (most recent call last)",
      "Cell \u001b[0;32mIn[13], line 3\u001b[0m\n\u001b[1;32m      1\u001b[0m \u001b[38;5;66;03m# Build layout\u001b[39;00m\n\u001b[0;32m----> 3\u001b[0m layout \u001b[38;5;241m=\u001b[39m [[\u001b[43msg\u001b[49m\u001b[38;5;241m.\u001b[39mT(\u001b[38;5;124m\"\u001b[39m\u001b[38;5;124m\"\u001b[39m)],\n\u001b[1;32m      4\u001b[0m           [sg\u001b[38;5;241m.\u001b[39mText(\u001b[38;5;124m\"\u001b[39m\u001b[38;5;124mChoose file to analyze: \u001b[39m\u001b[38;5;124m\"\u001b[39m), \n\u001b[1;32m      5\u001b[0m            sg\u001b[38;5;241m.\u001b[39mInput(),\n\u001b[1;32m      6\u001b[0m            sg\u001b[38;5;241m.\u001b[39mFileBrowse(key\u001b[38;5;241m=\u001b[39m\u001b[38;5;124m\"\u001b[39m\u001b[38;5;124m-IN-\u001b[39m\u001b[38;5;124m\"\u001b[39m)\n\u001b[1;32m      7\u001b[0m           ],[sg\u001b[38;5;241m.\u001b[39mButton(\u001b[38;5;124m\"\u001b[39m\u001b[38;5;124mSubmit\u001b[39m\u001b[38;5;124m\"\u001b[39m)]\n\u001b[1;32m      8\u001b[0m          ]\n\u001b[1;32m     10\u001b[0m \u001b[38;5;66;03m# Building Window\u001b[39;00m\n\u001b[1;32m     11\u001b[0m window \u001b[38;5;241m=\u001b[39m sg\u001b[38;5;241m.\u001b[39mWindow(\u001b[38;5;124m'\u001b[39m\u001b[38;5;124mMy File Browser\u001b[39m\u001b[38;5;124m'\u001b[39m, layout, size\u001b[38;5;241m=\u001b[39m(\u001b[38;5;241m600\u001b[39m,\u001b[38;5;241m150\u001b[39m))\n",
      "\u001b[0;31mNameError\u001b[0m: name 'sg' is not defined"
     ]
    }
   ],
   "source": [
    "# Build layout\n",
    "\n",
    "layout = [[sg.T(\"\")],\n",
    "          [sg.Text(\"Choose file to analyze: \"), \n",
    "           sg.Input(),\n",
    "           sg.FileBrowse(key=\"-IN-\")\n",
    "          ],[sg.Button(\"Submit\")]\n",
    "         ]\n",
    "\n",
    "# Building Window\n",
    "window = sg.Window('My File Browser', layout, size=(600,150))\n",
    "    \n",
    "while True:\n",
    "    event, values = window.read()\n",
    "    if event == sg.WIN_CLOSED or event==\"Exit\":\n",
    "        break\n",
    "    elif event == \"Submit\":\n",
    "        print(\"Analyzing {}\".format(values[\"-IN-\"]))\n",
    "\n",
    "    _ = analyze_ctd(values[\"-IN-\"])"
   ]
  },
  {
   "cell_type": "code",
   "execution_count": null,
   "id": "836a9f1e-73c9-4558-b5bc-fc74ea3d7470",
   "metadata": {},
   "outputs": [],
   "source": []
  },
  {
   "cell_type": "code",
   "execution_count": 16,
   "id": "8c157465-02f3-4274-a3d7-86bbf32c3d45",
   "metadata": {
    "execution": {
     "iopub.execute_input": "2023-12-25T23:24:33.463716Z",
     "iopub.status.busy": "2023-12-25T23:24:33.462518Z",
     "iopub.status.idle": "2023-12-25T23:24:33.501338Z",
     "shell.execute_reply": "2023-12-25T23:24:33.500630Z",
     "shell.execute_reply.started": "2023-12-25T23:24:33.463645Z"
    }
   },
   "outputs": [
    {
     "ename": "ModuleNotFoundError",
     "evalue": "No module named 'PySimpleGUIWeb'",
     "output_type": "error",
     "traceback": [
      "\u001b[0;31m---------------------------------------------------------------------------\u001b[0m",
      "\u001b[0;31mModuleNotFoundError\u001b[0m                       Traceback (most recent call last)",
      "Cell \u001b[0;32mIn[16], line 1\u001b[0m\n\u001b[0;32m----> 1\u001b[0m \u001b[38;5;28;01mimport\u001b[39;00m \u001b[38;5;21;01mPySimpleGUIWeb\u001b[39;00m \u001b[38;5;28;01mas\u001b[39;00m \u001b[38;5;21;01msg\u001b[39;00m\n",
      "\u001b[0;31mModuleNotFoundError\u001b[0m: No module named 'PySimpleGUIWeb'"
     ]
    }
   ],
   "source": [
    "import PySimpleGUIWeb as sg"
   ]
  },
  {
   "cell_type": "code",
   "execution_count": 16,
   "id": "cc99245f-a25c-4f7e-a30b-5a197064d3bc",
   "metadata": {
    "execution": {
     "iopub.execute_input": "2023-12-25T23:21:49.220980Z",
     "iopub.status.busy": "2023-12-25T23:21:49.220376Z",
     "iopub.status.idle": "2023-12-25T23:21:50.161409Z",
     "shell.execute_reply": "2023-12-25T23:21:50.160868Z",
     "shell.execute_reply.started": "2023-12-25T23:21:49.220949Z"
    }
   },
   "outputs": [
    {
     "name": "stdout",
     "output_type": "stream",
     "text": [
      "Requirement already satisfied: PySimpleGUIWeb in /Users/hector/anaconda3/envs/ctd-env/lib/python3.11/site-packages (0.39.0)\n",
      "Requirement already satisfied: remi<=2020.3.10 in /Users/hector/anaconda3/envs/ctd-env/lib/python3.11/site-packages (from PySimpleGUIWeb) (2020.3.10)\n"
     ]
    }
   ],
   "source": [
    "%%bash \n",
    "pip3 install PySimpleGUIWeb"
   ]
  },
  {
   "cell_type": "code",
   "execution_count": 15,
   "id": "e2b0ce98-956d-4576-8b56-e456c7927d26",
   "metadata": {
    "execution": {
     "iopub.execute_input": "2023-12-25T23:23:20.864673Z",
     "iopub.status.busy": "2023-12-25T23:23:20.864004Z",
     "iopub.status.idle": "2023-12-25T23:23:21.407770Z",
     "shell.execute_reply": "2023-12-25T23:23:21.407220Z",
     "shell.execute_reply.started": "2023-12-25T23:23:20.864639Z"
    }
   },
   "outputs": [
    {
     "name": "stdout",
     "output_type": "stream",
     "text": [
      "Package                   Version\n",
      "------------------------- ------------\n",
      "anyio                     4.2.0\n",
      "appnope                   0.1.3\n",
      "archspec                  0.2.2\n",
      "argon2-cffi               23.1.0\n",
      "argon2-cffi-bindings      21.2.0\n",
      "arrow                     1.3.0\n",
      "asttokens                 2.0.5\n",
      "async-lru                 2.0.4\n",
      "attrs                     23.1.0\n",
      "Babel                     2.14.0\n",
      "backcall                  0.2.0\n",
      "beautifulsoup4            4.12.2\n",
      "bleach                    6.1.0\n",
      "boltons                   23.1.1\n",
      "Brotli                    1.1.0\n",
      "certifi                   2023.11.17\n",
      "cffi                      1.16.0\n",
      "charset-normalizer        3.3.2\n",
      "colorama                  0.4.6\n",
      "comm                      0.2.0\n",
      "conda                     23.11.0\n",
      "conda-libmamba-solver     23.12.0\n",
      "conda-package-handling    2.2.0\n",
      "conda_package_streaming   0.9.0\n",
      "contourpy                 1.2.0\n",
      "cycler                    0.12.1\n",
      "debugpy                   1.6.7\n",
      "decorator                 5.1.1\n",
      "defusedxml                0.7.1\n",
      "distro                    1.8.0\n",
      "entrypoints               0.4\n",
      "executing                 0.8.3\n",
      "fastjsonschema            2.19.0\n",
      "fonttools                 4.47.0\n",
      "fqdn                      1.5.1\n",
      "idna                      3.6\n",
      "ipykernel                 6.16.0\n",
      "ipython                   7.34.0\n",
      "ipywidgets                8.1.1\n",
      "isoduration               20.11.0\n",
      "jedi                      0.19.1\n",
      "Jinja2                    3.1.2\n",
      "json5                     0.9.14\n",
      "jsonpatch                 1.33\n",
      "jsonpointer               2.4\n",
      "jsonschema                4.20.0\n",
      "jsonschema-specifications 2023.12.1\n",
      "jupyter                   1.0.0\n",
      "jupyter_client            8.6.0\n",
      "jupyter-console           6.6.3\n",
      "jupyter_core              5.5.0\n",
      "jupyter-events            0.9.0\n",
      "jupyter-lsp               2.2.1\n",
      "jupyter_server            2.12.1\n",
      "jupyter_server_terminals  0.5.0\n",
      "jupyterlab                4.0.9\n",
      "jupyterlab_pygments       0.3.0\n",
      "jupyterlab_server         2.25.2\n",
      "jupyterlab-widgets        3.0.9\n",
      "kiwisolver                1.4.5\n",
      "libmambapy                1.5.6\n",
      "mamba                     1.5.6\n",
      "MarkupSafe                2.1.3\n",
      "matplotlib                3.8.2\n",
      "matplotlib-inline         0.1.6\n",
      "menuinst                  2.0.1\n",
      "mistune                   3.0.2\n",
      "munkres                   1.1.4\n",
      "nbclient                  0.9.0\n",
      "nbconvert                 7.13.1\n",
      "nbformat                  5.9.2\n",
      "nest-asyncio              1.3.2\n",
      "notebook                  7.0.6\n",
      "notebook_shim             0.2.3\n",
      "numpy                     1.26.2\n",
      "overrides                 7.4.0\n",
      "packaging                 23.2\n",
      "pandas                    2.1.4\n",
      "pandocfilters             1.5.0\n",
      "parso                     0.8.3\n",
      "pexpect                   4.9.0\n",
      "pickleshare               0.7.5\n",
      "Pillow                    10.1.0\n",
      "pip                       23.3.2\n",
      "platformdirs              4.1.0\n",
      "pluggy                    1.3.0\n",
      "prometheus-client         0.19.0\n",
      "prompt-toolkit            3.0.43\n",
      "psutil                    5.9.0\n",
      "ptyprocess                0.7.0\n",
      "pure-eval                 0.2.2\n",
      "pycosat                   0.6.6\n",
      "pycparser                 2.21\n",
      "Pygments                  2.17.2\n",
      "pyparsing                 3.1.1\n",
      "PySimpleGUI               4.60.5\n",
      "PySimpleGUIWeb            0.39.0\n",
      "PySocks                   1.7.1\n",
      "python-dateutil           2.8.2\n",
      "python-json-logger        2.0.7\n",
      "pytz                      2023.3.post1\n",
      "PyYAML                    6.0.1\n",
      "pyzmq                     25.1.0\n",
      "qtconsole                 5.5.1\n",
      "QtPy                      2.4.1\n",
      "referencing               0.32.0\n",
      "remi                      2020.3.10\n",
      "requests                  2.31.0\n",
      "rfc3339-validator         0.1.4\n",
      "rfc3986-validator         0.1.1\n",
      "rpds-py                   0.15.2\n",
      "ruamel.yaml               0.18.5\n",
      "ruamel.yaml.clib          0.2.7\n",
      "SciPy                     1.11.4\n",
      "seawater                  3.3.4\n",
      "Send2Trash                1.8.2\n",
      "setuptools                68.2.2\n",
      "six                       1.16.0\n",
      "sniffio                   1.3.0\n",
      "soupsieve                 2.5\n",
      "stack-data                0.6.3\n",
      "terminado                 0.18.0\n",
      "tinycss2                  1.2.1\n",
      "tornado                   6.3.3\n",
      "tqdm                      4.66.1\n",
      "traitlets                 5.14.0\n",
      "truststore                0.8.0\n",
      "types-python-dateutil     2.8.19.14\n",
      "tzdata                    2023.3\n",
      "uri-template              1.3.0\n",
      "urllib3                   2.1.0\n",
      "wcwidth                   0.2.5\n",
      "webcolors                 1.13\n",
      "webencodings              0.5.1\n",
      "websocket-client          1.7.0\n",
      "wheel                     0.42.0\n",
      "widgetsnbextension        4.0.9\n",
      "zstandard                 0.22.0\n"
     ]
    }
   ],
   "source": [
    "%%bash\n",
    "pip list\n"
   ]
  },
  {
   "cell_type": "code",
   "execution_count": null,
   "id": "da13c561-3fb2-4488-9be6-c75da76c4bc9",
   "metadata": {},
   "outputs": [],
   "source": []
  },
  {
   "cell_type": "code",
   "execution_count": null,
   "id": "be6a675f-ab4d-4197-8cef-3e72415ecc0a",
   "metadata": {},
   "outputs": [],
   "source": []
  },
  {
   "cell_type": "code",
   "execution_count": null,
   "id": "9bb9de27-0c41-4f5a-9016-c1b5343300d8",
   "metadata": {},
   "outputs": [],
   "source": []
  },
  {
   "cell_type": "code",
   "execution_count": null,
   "id": "86df6391-f491-4096-929a-858bb591253a",
   "metadata": {},
   "outputs": [],
   "source": []
  },
  {
   "cell_type": "code",
   "execution_count": null,
   "id": "c45038b0-f727-448a-9f5e-fa3eebe5a9ae",
   "metadata": {},
   "outputs": [],
   "source": []
  }
 ],
 "metadata": {
  "kernelspec": {
   "display_name": "ctd-env",
   "language": "python",
   "name": "ctd-env"
  },
  "language_info": {
   "codemirror_mode": {
    "name": "ipython",
    "version": 3
   },
   "file_extension": ".py",
   "mimetype": "text/x-python",
   "name": "python",
   "nbconvert_exporter": "python",
   "pygments_lexer": "ipython3",
   "version": "3.9.16"
  }
 },
 "nbformat": 4,
 "nbformat_minor": 5
}
